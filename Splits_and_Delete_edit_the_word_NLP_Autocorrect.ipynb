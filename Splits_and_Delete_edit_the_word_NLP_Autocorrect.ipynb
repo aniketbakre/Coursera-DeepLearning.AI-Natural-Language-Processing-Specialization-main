{
  "nbformat": 4,
  "nbformat_minor": 0,
  "metadata": {
    "colab": {
      "provenance": []
    },
    "kernelspec": {
      "name": "python3",
      "display_name": "Python 3"
    },
    "language_info": {
      "name": "python"
    }
  },
  "cells": [
    {
      "cell_type": "code",
      "execution_count": 33,
      "metadata": {
        "id": "Ix4cITJjr96C"
      },
      "outputs": [],
      "source": [
        "# Data\n",
        "word = 'dearz'    # It should be dear"
      ]
    },
    {
      "cell_type": "code",
      "source": [
        "# Split the word with a loop to find the possible words\n",
        "split_word = []\n",
        "for i in range(len(word)+1):\n",
        "  split_word.append([word[:i], word[i:]])\n",
        "  print(split_word[i])\n"
      ],
      "metadata": {
        "colab": {
          "base_uri": "https://localhost:8080/"
        },
        "id": "uJnijPmQsMIp",
        "outputId": "fff256d4-3898-46b2-d60d-254d09781048"
      },
      "execution_count": 34,
      "outputs": [
        {
          "output_type": "stream",
          "name": "stdout",
          "text": [
            "['', 'dearz']\n",
            "['d', 'earz']\n",
            "['de', 'arz']\n",
            "['dea', 'rz']\n",
            "['dear', 'z']\n",
            "['dearz', '']\n"
          ]
        }
      ]
    },
    {
      "cell_type": "code",
      "source": [
        "# Same split done using a list comprehension\n",
        "split_b = [(word[:i],word[i:]) for i in range(len(word) + 1)]\n",
        "\n",
        "for i in split_b:\n",
        "  print(i)\n"
      ],
      "metadata": {
        "colab": {
          "base_uri": "https://localhost:8080/"
        },
        "id": "36uAewSms5sS",
        "outputId": "fb81b144-6acb-43ad-de96-9aa333a52cc9"
      },
      "execution_count": 35,
      "outputs": [
        {
          "output_type": "stream",
          "name": "stdout",
          "text": [
            "('', 'dearz')\n",
            "('d', 'earz')\n",
            "('de', 'arz')\n",
            "('dea', 'rz')\n",
            "('dear', 'z')\n",
            "('dearz', '')\n"
          ]
        }
      ]
    },
    {
      "cell_type": "markdown",
      "source": [
        "## Delete Edit"
      ],
      "metadata": {
        "id": "trjmthwCvaMY"
      }
    },
    {
      "cell_type": "code",
      "source": [
        "# deletes with a loop\n",
        "splits_delete = split_word\n",
        "# delets = []\n",
        "\n",
        "print('word', word)\n",
        "\n",
        "for L,R in split_word:\n",
        "  if R:\n",
        "    print(L + R[1:], '<---- delete', R[0])"
      ],
      "metadata": {
        "colab": {
          "base_uri": "https://localhost:8080/"
        },
        "id": "EyGVFhlKt_6e",
        "outputId": "34469f44-4a2a-428f-ad25-dd9bb79dc894"
      },
      "execution_count": 36,
      "outputs": [
        {
          "output_type": "stream",
          "name": "stdout",
          "text": [
            "word dearz\n",
            "earz <---- delete d\n",
            "darz <---- delete e\n",
            "derz <---- delete a\n",
            "deaz <---- delete r\n",
            "dear <---- delete z\n"
          ]
        }
      ]
    },
    {
      "cell_type": "code",
      "source": [
        "# Same using list comprehension\n",
        "split = split_word\n",
        "delete = [L + R[1:] for L, R in split if R]\n",
        "print(delete)\n"
      ],
      "metadata": {
        "colab": {
          "base_uri": "https://localhost:8080/"
        },
        "id": "TDzDY60vyQAR",
        "outputId": "148d4440-5efc-4311-b7cb-4dbd844921ba"
      },
      "execution_count": 37,
      "outputs": [
        {
          "output_type": "stream",
          "name": "stdout",
          "text": [
            "['earz', 'darz', 'derz', 'deaz', 'dear']\n"
          ]
        }
      ]
    },
    {
      "cell_type": "code",
      "source": [
        "# It can be more visible by printing verticaly\n",
        "for i in delete:\n",
        "  print(i)"
      ],
      "metadata": {
        "colab": {
          "base_uri": "https://localhost:8080/"
        },
        "id": "FOT4o46UzG93",
        "outputId": "4ee4d83a-928b-4c8c-b4c8-56acb4ed0553"
      },
      "execution_count": 38,
      "outputs": [
        {
          "output_type": "stream",
          "name": "stdout",
          "text": [
            "earz\n",
            "darz\n",
            "derz\n",
            "deaz\n",
            "dear\n"
          ]
        }
      ]
    },
    {
      "cell_type": "markdown",
      "source": [
        "### Ungraded Exercise\n",
        "You now have a list of ***candidate strings*** created after performing a **delete** edit.\n",
        "<br>\n",
        "Next step will be to filter this list for ***candidate words*** found in a vocabulary.\n",
        "<br>\n",
        "Given the example vocab below, can you think of a way to create a list of candidate words ?\n",
        "<br>\n",
        "Remember, you already have a list of candidate strings, some of which are certainly not actual words you might find in your vocabulary !\n",
        "<br>\n",
        "<br>\n",
        "So from the above list **earz, darz, derz, deaz, dear**.\n",
        "<br>\n",
        "You're really only interested in **dear**.\n",
        "\n",
        "\n",
        "\n",
        "Expected Outcome:\n",
        "\n",
        "vocab :  ['dean', 'deer', 'dear', 'fries', 'and', 'coke']\n",
        "<br>\n",
        "edits :  ['earz', 'darz', 'derz', 'deaz', 'dear']\n",
        "<br>\n",
        "candidate words :  {'dear'}"
      ],
      "metadata": {
        "id": "FMnC47Ju0S1E"
      }
    },
    {
      "cell_type": "markdown",
      "source": [
        "1st Method using set().intersection()"
      ],
      "metadata": {
        "id": "NXb4QORN4hvm"
      }
    },
    {
      "cell_type": "code",
      "source": [
        "vocab = ['dean','deer','dear','fries','and','coke']\n",
        "edits = list(delete)\n",
        "\n",
        "print('vocab : ', vocab)\n",
        "print('edits : ', edits)\n",
        "\n",
        "candidates=[]\n",
        "\n",
        "### START CODE HERE ###\n",
        "candidates=set(edits).intersection(vocab)\n",
        "### END CODE HERE ###\n",
        "\n",
        "print('candidate words : ', candidates)"
      ],
      "metadata": {
        "colab": {
          "base_uri": "https://localhost:8080/"
        },
        "id": "vzDaI6MczceZ",
        "outputId": "737b7348-e828-4e1a-aac5-02434c12ff4e"
      },
      "execution_count": 39,
      "outputs": [
        {
          "output_type": "stream",
          "name": "stdout",
          "text": [
            "vocab :  ['dean', 'deer', 'dear', 'fries', 'and', 'coke']\n",
            "edits :  ['earz', 'darz', 'derz', 'deaz', 'dear']\n",
            "candidate words :  {'dear'}\n"
          ]
        }
      ]
    },
    {
      "cell_type": "markdown",
      "source": [
        "2nd Method using for loop"
      ],
      "metadata": {
        "id": "yamfI06q4qpZ"
      }
    },
    {
      "cell_type": "code",
      "source": [
        "vocab = ['dean','deer','dear','fries','and','coke']\n",
        "edits = list(delete)\n",
        "\n",
        "print('vocab : ', vocab)\n",
        "print('edits : ', edits)\n",
        "\n",
        "candidates=[]\n",
        "\n",
        "### START CODE HERE ###\n",
        "for i in edits:\n",
        "  if i in vocab:\n",
        "    candidates.append(i)\n",
        "### END CODE HERE ###\n",
        "\n",
        "print(set(candidates))"
      ],
      "metadata": {
        "colab": {
          "base_uri": "https://localhost:8080/"
        },
        "id": "sQtns0Su1ywQ",
        "outputId": "2400aaee-684f-43d7-81d0-407d2bf1d9c6"
      },
      "execution_count": 42,
      "outputs": [
        {
          "output_type": "stream",
          "name": "stdout",
          "text": [
            "vocab :  ['dean', 'deer', 'dear', 'fries', 'and', 'coke']\n",
            "edits :  ['earz', 'darz', 'derz', 'deaz', 'dear']\n",
            "{'dear'}\n"
          ]
        }
      ]
    }
  ]
}